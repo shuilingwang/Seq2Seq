{
 "cells": [
  {
   "cell_type": "code",
   "execution_count": 1,
   "id": "85dcb1ef-14da-4906-b5e3-42550b57b8b8",
   "metadata": {},
   "outputs": [],
   "source": [
    "import os\n",
    "import torch\n",
    "import torch.nn as nn\n",
    "import torch.optim as optim\n",
    "import random\n",
    "import numpy as np\n",
    "import spacy\n",
    "import datasets\n",
    "import torchtext\n",
    "import tqdm\n",
    "import evaluate\n"
   ]
  },
  {
   "cell_type": "code",
   "execution_count": 2,
   "id": "0a2bf647-bb3e-47de-900a-a811042f4e8a",
   "metadata": {},
   "outputs": [],
   "source": [
    "seed = 1234\n",
    "\n",
    "random.seed(seed)\n",
    "np.random.seed(seed)\n",
    "torch.manual_seed(seed)\n",
    "torch.cuda.manual_seed(seed)\n",
    "torch.backends.cudnn.deterministic = True\n"
   ]
  },
  {
   "cell_type": "markdown",
   "id": "f91d8074-0237-4a22-b117-6b425c98ec9f",
   "metadata": {},
   "source": [
    "### 代码解释\n",
    "\n",
    "#### 1. `os.environ['HF_ENDPOINT'] = 'https://hf-mirror.com'`\n",
    "- **作用**：\n",
    "  - 设置环境变量 `HF_ENDPOINT`，将 Hugging Face 的数据集和模型下载源从官方地址 `https://huggingface.co` 切换到镜像地址 `https://hf-mirror.com`。\n",
    "- **为什么需要设置？**\n",
    "  - **加速下载**：`hf-mirror.com` 是 Hugging Face 官方提供的镜像站点（通常托管在亚洲地区），下载速度比官方源更快。\n",
    "  - **避免网络限制**：某些地区（如中国大陆）访问 `huggingface.co` 可能较慢或不稳定，使用镜像站点可以绕过这些问题。\n",
    "  - **备用方案**：如果官方源暂时不可用（如维护或宕机），镜像站点可以作为替代。\n",
    "\n",
    "#### 2. `dataset = datasets.load_dataset(\"bentrevett/multi30k\")`\n",
    "- **作用**：\n",
    "  - 从 Hugging Face Datasets 库加载名为 `\"bentrevett/multi30k\"` 的数据集，并存储在变量 `dataset` 中。\n",
    "- **具体流程**：\n",
    "  1. 检查本地缓存（默认路径：`~/.cache/huggingface/datasets/`），如果数据集已存在，则直接加载。\n",
    "  2. 如果本地没有缓存，则从 `https://hf-mirror.com/datasets/bentrevett/multi30k` 下载数据集（因为之前设置了 `HF_ENDPOINT`）。\n",
    "  3. 返回一个 `datasets.DatasetDict` 或 `datasets.Dataset` 对象，可以像 Pandas DataFrame 一样操作。\n",
    "\n",
    "#### 注意事项\n",
    "- **数据集名称**：`\"bentrevett/multi30k\"` 是 Hugging Face Datasets 上的一个数据集，由用户 `bentrevett` 上传，名称为 `multi30k`。\n",
    "- **镜像源的可靠性**：虽然镜像站点通常可靠，但如果遇到问题，可以尝试其他镜像源（如阿里云镜像 `https://mirror.aliyun.com/huggingface/`）或直接使用官方源。"
   ]
  },
  {
   "cell_type": "code",
   "execution_count": 3,
   "id": "c9ea34ca-b473-4b6a-886c-2e024b504cd5",
   "metadata": {
    "scrolled": true
   },
   "outputs": [],
   "source": [
    "import os\n",
    "from datasets import load_dataset\n",
    "\n",
    "# 1. 基础修改方式\n",
    "os.environ['HF_ENDPOINT'] = 'https://hf-mirror.com'\n",
    "\n",
    "# 2. 加载数据集（自动走镜像）\n",
    "dataset = load_dataset(\"multi30k\")\n"
   ]
  },
  {
   "cell_type": "code",
   "execution_count": 4,
   "id": "c37ce63a-640b-4a9f-9e42-eec9396094f3",
   "metadata": {
    "scrolled": true
   },
   "outputs": [
    {
     "data": {
      "text/plain": [
       "DatasetDict({\n",
       "    train: Dataset({\n",
       "        features: ['en', 'de'],\n",
       "        num_rows: 29000\n",
       "    })\n",
       "    validation: Dataset({\n",
       "        features: ['en', 'de'],\n",
       "        num_rows: 1014\n",
       "    })\n",
       "    test: Dataset({\n",
       "        features: ['en', 'de'],\n",
       "        num_rows: 1000\n",
       "    })\n",
       "})"
      ]
     },
     "execution_count": 4,
     "metadata": {},
     "output_type": "execute_result"
    }
   ],
   "source": [
    "dataset"
   ]
  },
  {
   "cell_type": "code",
   "execution_count": 5,
   "id": "d90b4901-04ff-428d-9573-1cacf36dda81",
   "metadata": {},
   "outputs": [],
   "source": [
    "train_data, valid_data, test_data = (\n",
    "    dataset[\"train\"],\n",
    "    dataset[\"validation\"],\n",
    "    dataset[\"test\"],\n",
    ")"
   ]
  },
  {
   "cell_type": "code",
   "execution_count": 6,
   "id": "b66309f2-c584-44ea-8275-5222981c5de4",
   "metadata": {},
   "outputs": [
    {
     "data": {
      "text/plain": [
       "{'en': 'Two young, White males are outside near many bushes.',\n",
       " 'de': 'Zwei junge weiße Männer sind im Freien in der Nähe vieler Büsche.'}"
      ]
     },
     "execution_count": 6,
     "metadata": {},
     "output_type": "execute_result"
    }
   ],
   "source": [
    "train_data[0]"
   ]
  },
  {
   "cell_type": "code",
   "execution_count": 7,
   "id": "771e40b0-89b0-4c3a-8e91-cf4be0cabc11",
   "metadata": {},
   "outputs": [],
   "source": [
    "en_nlp = spacy.load(\"en_core_web_sm\")\n",
    "de_nlp = spacy.load(\"de_core_news_sm\")"
   ]
  },
  {
   "cell_type": "code",
   "execution_count": 8,
   "id": "88795385-92c7-4746-a134-39093e091e5d",
   "metadata": {},
   "outputs": [
    {
     "data": {
      "text/plain": [
       "['What', 'a', 'lovely', 'day', 'it', 'is', 'today', '!']"
      ]
     },
     "execution_count": 8,
     "metadata": {},
     "output_type": "execute_result"
    }
   ],
   "source": [
    "string = \"What a lovely day it is today!\"\n",
    "\n",
    "[token.text for token in en_nlp.tokenizer(string)]"
   ]
  },
  {
   "cell_type": "markdown",
   "id": "4f84d9b1-c569-429d-8e07-c5d4d60ce8e0",
   "metadata": {},
   "source": [
    "### `tokenize_example` 函数的作用\n",
    "\n",
    "该函数用于对输入的示例数据进行分词（tokenization）和预处理，主要步骤如下：\n",
    "\n",
    "1. **输入参数**：\n",
    "   - `example`：包含源语言（英语 `\"en\"`）和目标语言（德语 `\"de\"`）文本的字典。\n",
    "   - `en_nlp` 和 `de_nlp`：分别用于英语和德语的分词器（如 spaCy 的 `Tokenizer`）。\n",
    "   - `max_length`：限制分词后的最大长度，超出部分会被截断。\n",
    "   - `lower`：是否将分词结果转换为小写。\n",
    "   - `sos_token` 和 `eos_token`：分别表示句子开始（Start of Sentence）和句子结束（End of Sentence）的特殊标记。\n",
    "\n",
    "2. **处理流程**：\n",
    "   - 使用 `en_nlp.tokenizer` 对英语文本分词，并截取前 `max_length` 个词。\n",
    "   - 使用 `de_nlp.tokenizer` 对德语文本分词，并截取前 `max_length` 个词。\n",
    "   - 如果 `lower=True`，则将所有分词结果转换为小写。\n",
    "   - 在英语和德语的分词结果前后分别添加 `<sos>` 和 `<eos>` 标记。\n",
    "   - 返回一个字典，包含处理后的英语和德语分词结果（`en_tokens` 和 `de_tokens`）。\n",
    "\n",
    "3. **返回值**：\n",
    "   - 返回一个字典，格式为：\n",
    "     ```python\n",
    "     {\n",
    "         \"en_tokens\": [sos_token, token1, token2, ..., eos_token],\n",
    "         \"de_tokens\": [sos_token, token1, token2, ..., eos_token]\n",
    "     }\n",
    "     ```"
   ]
  },
  {
   "cell_type": "code",
   "execution_count": 9,
   "id": "afc29531-96b8-41ce-a259-4d1063d1a127",
   "metadata": {},
   "outputs": [],
   "source": [
    "def tokenize_example(example, en_nlp, de_nlp, max_length, lower, sos_token, eos_token):\n",
    "    en_tokens = [token.text for token in en_nlp.tokenizer(example[\"en\"])][:max_length]\n",
    "    de_tokens = [token.text for token in de_nlp.tokenizer(example[\"de\"])][:max_length]\n",
    "    if lower:\n",
    "        en_tokens = [token.lower() for token in en_tokens]\n",
    "        de_tokens = [token.lower() for token in de_tokens]\n",
    "    en_tokens = [sos_token] + en_tokens + [eos_token]\n",
    "    de_tokens = [sos_token] + de_tokens + [eos_token]\n",
    "    return {\"en_tokens\": en_tokens, \"de_tokens\": de_tokens}"
   ]
  },
  {
   "cell_type": "markdown",
   "id": "a14588fc-3970-45da-a587-7d7b3198f0e0",
   "metadata": {},
   "source": [
    "### `<sos>` 和 `<eos>` 的含义\n",
    "\n",
    "- **`<sos>`（Start of Sentence）**：\n",
    "  - 表示句子的开始，通常用于序列到序列（Seq2Seq）模型的输入，帮助模型识别句子的起始位置。\n",
    "  - 在解码阶段（如机器翻译），`<sos>` 可以作为解码的初始标记。\n",
    "\n",
    "- **`<eos>`（End of Sentence）**：\n",
    "  - 表示句子的结束，用于标记句子的终止位置。\n",
    "  - 在训练时，`<eos>` 可以帮助模型学习句子的长度；在解码时，`<eos>` 可以作为停止条件。\n",
    "\n",
    "---\n",
    "\n",
    "### `map` 函数的作用\n",
    "\n",
    "`map` 是 Hugging Face `datasets` 库中的一个方法，用于对数据集中的每个样本应用指定的函数（如 `tokenize_example`），并返回处理后的新数据集。具体作用如下：\n",
    "\n",
    "1. **功能**：\n",
    "   - 对 `train_data`、`valid_data` 和 `test_data` 中的每个样本调用 `tokenize_example` 函数。\n",
    "   - 将原始文本数据转换为分词后的 token 序列（`en_tokens` 和 `de_tokens`）。\n",
    "\n",
    "2. **参数**：\n",
    "   - `tokenize_example`：要应用的函数。\n",
    "   - `fn_kwargs`：传递给 `tokenize_example` 的额外参数（如分词器、最大长度等）。\n",
    "\n",
    "3. **返回值**：\n",
    "   - 返回一个新的数据集，其中每个样本已被 `tokenize_example` 处理。\n",
    "\n",
    "4. **示例**：\n",
    "   - 假设原始数据为：\n",
    "     ```python\n",
    "     {\"en\": \"Hello world\", \"de\": \"Hallo Welt\"}\n",
    "     ```\n",
    "   - 经过 `map` 处理后，可能变为：\n",
    "     ```python\n",
    "     {\n",
    "         \"en_tokens\": [\"<sos>\", \"hello\", \"world\", \"<eos>\"],\n",
    "         \"de_tokens\": [\"<sos>\", \"hallo\", \"welt\", \"<eos>\"]\n",
    "     }\n",
    "     ```"
   ]
  },
  {
   "cell_type": "code",
   "execution_count": 10,
   "id": "2dcb6859-a463-4446-8874-d885f0e601c1",
   "metadata": {},
   "outputs": [
    {
     "data": {
      "application/vnd.jupyter.widget-view+json": {
       "model_id": "8f0a9fff5c3d48618103947c86e8e73f",
       "version_major": 2,
       "version_minor": 0
      },
      "text/plain": [
       "Map:   0%|          | 0/1014 [00:00<?, ? examples/s]"
      ]
     },
     "metadata": {},
     "output_type": "display_data"
    },
    {
     "data": {
      "application/vnd.jupyter.widget-view+json": {
       "model_id": "36cf33389ebe4c77a11b6191ba0b7ff8",
       "version_major": 2,
       "version_minor": 0
      },
      "text/plain": [
       "Map:   0%|          | 0/1000 [00:00<?, ? examples/s]"
      ]
     },
     "metadata": {},
     "output_type": "display_data"
    }
   ],
   "source": [
    "max_length = 1_000\n",
    "lower = True\n",
    "sos_token = \"<sos>\"\n",
    "eos_token = \"<eos>\"\n",
    "\n",
    "fn_kwargs = {\n",
    "    \"en_nlp\": en_nlp,\n",
    "    \"de_nlp\": de_nlp,\n",
    "    \"max_length\": max_length,\n",
    "    \"lower\": lower,\n",
    "    \"sos_token\": sos_token,\n",
    "    \"eos_token\": eos_token,\n",
    "}\n",
    "\n",
    "train_data = train_data.map(tokenize_example, fn_kwargs=fn_kwargs)\n",
    "valid_data = valid_data.map(tokenize_example, fn_kwargs=fn_kwargs)\n",
    "test_data = test_data.map(tokenize_example, fn_kwargs=fn_kwargs)"
   ]
  },
  {
   "cell_type": "code",
   "execution_count": 11,
   "id": "e1b0e889-bebd-4935-9f4d-ebdc067fcdaf",
   "metadata": {},
   "outputs": [
    {
     "data": {
      "text/plain": [
       "{'en': 'Two young, White males are outside near many bushes.',\n",
       " 'de': 'Zwei junge weiße Männer sind im Freien in der Nähe vieler Büsche.',\n",
       " 'en_tokens': ['<sos>',\n",
       "  'two',\n",
       "  'young',\n",
       "  ',',\n",
       "  'white',\n",
       "  'males',\n",
       "  'are',\n",
       "  'outside',\n",
       "  'near',\n",
       "  'many',\n",
       "  'bushes',\n",
       "  '.',\n",
       "  '<eos>'],\n",
       " 'de_tokens': ['<sos>',\n",
       "  'zwei',\n",
       "  'junge',\n",
       "  'weiße',\n",
       "  'männer',\n",
       "  'sind',\n",
       "  'im',\n",
       "  'freien',\n",
       "  'in',\n",
       "  'der',\n",
       "  'nähe',\n",
       "  'vieler',\n",
       "  'büsche',\n",
       "  '.',\n",
       "  '<eos>']}"
      ]
     },
     "execution_count": 11,
     "metadata": {},
     "output_type": "execute_result"
    }
   ],
   "source": [
    "\n",
    "train_data[0]"
   ]
  },
  {
   "cell_type": "code",
   "execution_count": 12,
   "id": "7e064a72-7c2a-4285-b08b-827d10786eb5",
   "metadata": {},
   "outputs": [],
   "source": [
    "min_freq = 2\n",
    "unk_token = \"<unk>\"\n",
    "pad_token = \"<pad>\"\n",
    "\n",
    "special_tokens = [\n",
    "    unk_token,\n",
    "    pad_token,\n",
    "    sos_token,\n",
    "    eos_token,\n",
    "]\n",
    "\n",
    "en_vocab = torchtext.vocab.build_vocab_from_iterator(\n",
    "    train_data[\"en_tokens\"],\n",
    "    min_freq=min_freq,\n",
    "    specials=special_tokens,\n",
    ")\n",
    "\n",
    "de_vocab = torchtext.vocab.build_vocab_from_iterator(\n",
    "    train_data[\"de_tokens\"],\n",
    "    min_freq=min_freq,\n",
    "    specials=special_tokens,\n",
    ")\n"
   ]
  },
  {
   "cell_type": "code",
   "execution_count": 13,
   "id": "955f5790-e262-4922-a9d9-658ca5cbd52c",
   "metadata": {},
   "outputs": [
    {
     "data": {
      "text/plain": [
       "['<unk>', '<pad>', '<sos>', '<eos>', 'a', '.', 'in', 'the', 'on', 'man']"
      ]
     },
     "execution_count": 13,
     "metadata": {},
     "output_type": "execute_result"
    }
   ],
   "source": [
    "en_vocab.get_itos()[:10]"
   ]
  },
  {
   "cell_type": "code",
   "execution_count": 14,
   "id": "bcc6bece-57ce-4e3a-9ea3-a89be064df47",
   "metadata": {},
   "outputs": [
    {
     "data": {
      "text/plain": [
       "['<unk>', '<pad>', '<sos>', '<eos>', '.', 'ein', 'einem', 'in', 'eine', ',']"
      ]
     },
     "execution_count": 14,
     "metadata": {},
     "output_type": "execute_result"
    }
   ],
   "source": [
    "de_vocab.get_itos()[:10]"
   ]
  },
  {
   "cell_type": "code",
   "execution_count": 15,
   "id": "6feb956e-1ddf-4dd7-8755-6098573d3289",
   "metadata": {},
   "outputs": [
    {
     "data": {
      "text/plain": [
       "7"
      ]
     },
     "execution_count": 15,
     "metadata": {},
     "output_type": "execute_result"
    }
   ],
   "source": [
    "en_vocab[\"the\"]"
   ]
  },
  {
   "cell_type": "code",
   "execution_count": 16,
   "id": "90caca53-d128-464f-8c0e-568e4b86e45e",
   "metadata": {},
   "outputs": [],
   "source": [
    "assert en_vocab[unk_token] == de_vocab[unk_token]\n",
    "assert en_vocab[pad_token] == de_vocab[pad_token]\n",
    "\n",
    "unk_index = en_vocab[unk_token]\n",
    "pad_index = en_vocab[pad_token]"
   ]
  },
  {
   "cell_type": "code",
   "execution_count": 17,
   "id": "5d99b16b-ee19-4e05-892e-e41af3ac7535",
   "metadata": {},
   "outputs": [],
   "source": [
    "en_vocab.set_default_index(unk_index)\n",
    "de_vocab.set_default_index(unk_index)\n"
   ]
  },
  {
   "cell_type": "code",
   "execution_count": 18,
   "id": "d70cf5aa-0b45-4e42-a7ec-8a6adaea1d0f",
   "metadata": {},
   "outputs": [
    {
     "data": {
      "text/plain": [
       "[956, 2169, 173, 0, 821]"
      ]
     },
     "execution_count": 18,
     "metadata": {},
     "output_type": "execute_result"
    }
   ],
   "source": [
    "tokens = [\"i\", \"love\", \"watching\", \"crime\", \"shows\"]\n",
    "en_vocab.lookup_indices(tokens)"
   ]
  },
  {
   "cell_type": "markdown",
   "id": "9d561584-48d6-4895-83dc-c562c747756b",
   "metadata": {},
   "source": [
    "### 为什么 `crime` 被转换成 `<unk>`？\n",
    "\n",
    "#### 1. 词汇表的局限性\n",
    "- 词汇表（`vocab`）是一个预定义的 Token 集合，仅包含模型训练时见过的词。\n",
    "- 如果某个词（如 `crime`）未出现在训练数据中，则不会被加入词汇表。\n",
    "- 当 `lookup_indices` 遇到未登录词时，默认返回 `<unk>` 的索引。\n",
    "\n",
    "#### 2. 可能的原因\n",
    "- **数据不匹配**：\n",
    "  - 训练词汇表时未包含 `crime`，但测试/推理时出现了该词。\n",
    "- **分词策略**：\n",
    "  - 如果使用基于空格的分词（如 `WhitespaceTokenizer`），`crime` 是一个完整词，但如果词汇表未收录，则会被视为未知词。\n",
    "- **词汇表大小限制**：\n",
    "  - 为了控制模型大小，可能人为限制了词汇表的大小（如只保留前 50,000 个高频词），导致低频词被过滤。\n",
    "\n",
    "#### 3. 解决方案\n",
    "- **扩展词汇表**：\n",
    "  - 在训练前收集更多数据，确保词汇表覆盖所有可能的词。\n",
    "- **使用子词分词**：\n",
    "  - 改用 BPE、WordPiece 等算法，将未知词拆分为已知子词（如 `crime` → `cr` + `ime`）。\n",
    "- **处理未知词**：\n",
    "  - 在模型中为 `<unk>` 分配特殊处理逻辑（如随机初始化向量或使用 `<unk>` 的嵌入）。"
   ]
  },
  {
   "cell_type": "markdown",
   "id": "90004cff-862e-48ad-ada7-094507e5e129",
   "metadata": {},
   "source": [
    "### `numericalize_example` 函数的作用\n",
    "\n",
    "该函数用于将文本数据（Token 列表）转换为数值索引（ID 列表），是 NLP 数据预处理的关键步骤。具体功能如下：\n",
    "\n",
    "1. **输入参数**：\n",
    "   - `example`：包含分词后 Token 列表的字典，格式为：\n",
    "     ```python\n",
    "     {\n",
    "         \"en_tokens\": [\"<sos>\", \"hello\", \"world\", \"<eos>\"],\n",
    "         \"de_tokens\": [\"<sos>\", \"hallo\", \"welt\", \"<eos>\"]\n",
    "     }\n",
    "     ```\n",
    "   - `en_vocab` 和 `de_vocab`：分别是英语和德语的词汇表对象，提供 `lookup_indices()` 方法将 Token 转换为索引。\n",
    "\n",
    "2. **处理流程**：\n",
    "   - 对 `example[\"en_tokens\"]` 中的每个 Token，通过 `en_vocab.lookup_indices()` 查找对应的数值索引，生成 `en_ids` 列表。\n",
    "   - 对 `example[\"de_tokens\"]` 中的每个 Token，通过 `de_vocab.lookup_indices()` 查找对应的数值索引，生成 `de_ids` 列表。\n",
    "   - 返回一个新字典，包含数值化后的输入和目标序列：\n",
    "     ```python\n",
    "     {\n",
    "         \"en_ids\": [1, 2, 3, 4],  # 英语序列的索引表示\n",
    "         \"de_ids\": [1, 5, 6, 4]   # 德语序列的索引表示\n",
    "     }\n",
    "     ```\n",
    "\n",
    "3. **输出结果**：\n",
    "   - 将原始文本数据转换为模型可直接处理的数值形式（ID 序列），便于后续的嵌入层（Embedding Layer）和神经网络计算。\n",
    "\n",
    "---\n",
    "\n",
    "### `map` 函数的作用\n",
    "\n",
    "`map` 是 Hugging Face `datasets` 库提供的批量数据处理方法，用于对数据集中的每个样本应用指定的转换函数。具体作用如下：\n",
    "\n",
    "1. **功能**：\n",
    "   - 对 `train_data`、`valid_data` 和 `test_data` 中的每个样本调用 `numericalize_example` 函数。\n",
    "   - 将分词后的 Token 列表（如 `[\"<sos>\", \"hello\", \"<eos>\"]`）转换为数值索引列表（如 `[1, 2, 4]`）。\n",
    "\n",
    "2. **参数说明**：\n",
    "   - `numericalize_example`：要应用的转换函数。\n",
    "   - `fn_kwargs={\"en_vocab\": en_vocab, \"de_vocab\": de_vocab}`：传递给函数的额外参数（词汇表对象）。\n",
    "\n",
    "3. **返回值**：\n",
    "   - 返回一个新的数据集，其中每个样本已被转换为数值索引形式：\n",
    "     ```python\n",
    "     {\n",
    "         \"en_ids\": [1, 2, 3, 4],\n",
    "         \"de_ids\": [1, 5, 6, 4]\n",
    "     }\n",
    "     ```\n",
    "\n",
    "4. **优势**：\n",
    "   - **高效性**：`map` 支持多线程并行处理，显著加速大规模数据集的预处理。\n",
    "   - **灵活性**：通过 `fn_kwargs` 动态传递参数（如不同语言的词汇表），适应多任务需求。\n",
    "\n",
    "---\n",
    "\n",
    "### **完整流程示例**\n",
    "假设原始数据为：\n",
    "```python\n",
    "{\"en_tokens\": [\"<sos>\", \"hello\", \"world\", \"<eos>\"], \n",
    " \"de_tokens\": [\"<sos>\", \"hallo\", \"welt\", \"<eos>\"]}"
   ]
  },
  {
   "cell_type": "code",
   "execution_count": 19,
   "id": "d842dd69-42b1-4fef-94cf-78f44a168192",
   "metadata": {},
   "outputs": [
    {
     "data": {
      "text/plain": [
       "['i', 'love', 'watching', '<unk>', 'shows']"
      ]
     },
     "execution_count": 19,
     "metadata": {},
     "output_type": "execute_result"
    }
   ],
   "source": [
    "en_vocab.lookup_tokens(en_vocab.lookup_indices(tokens))"
   ]
  },
  {
   "cell_type": "code",
   "execution_count": 20,
   "id": "f00c9d7d-0782-4ca7-ac75-f227d6d91b9c",
   "metadata": {},
   "outputs": [],
   "source": [
    "def numericalize_example(example, en_vocab, de_vocab):\n",
    "    en_ids = en_vocab.lookup_indices(example[\"en_tokens\"])\n",
    "    de_ids = de_vocab.lookup_indices(example[\"de_tokens\"])\n",
    "    return {\"en_ids\": en_ids, \"de_ids\": de_ids}"
   ]
  },
  {
   "cell_type": "code",
   "execution_count": 21,
   "id": "337c193f-4ac4-4d75-983d-d2bec6bbf088",
   "metadata": {},
   "outputs": [
    {
     "data": {
      "application/vnd.jupyter.widget-view+json": {
       "model_id": "cfb2ae4084714875b8b196ee73587db7",
       "version_major": 2,
       "version_minor": 0
      },
      "text/plain": [
       "Map:   0%|          | 0/1014 [00:00<?, ? examples/s]"
      ]
     },
     "metadata": {},
     "output_type": "display_data"
    },
    {
     "data": {
      "application/vnd.jupyter.widget-view+json": {
       "model_id": "516d133ac6c9457bb8f4c8b228fc30cd",
       "version_major": 2,
       "version_minor": 0
      },
      "text/plain": [
       "Map:   0%|          | 0/1000 [00:00<?, ? examples/s]"
      ]
     },
     "metadata": {},
     "output_type": "display_data"
    }
   ],
   "source": [
    "fn_kwargs = {\"en_vocab\": en_vocab, \"de_vocab\": de_vocab}\n",
    "\n",
    "train_data = train_data.map(numericalize_example, fn_kwargs=fn_kwargs)\n",
    "valid_data = valid_data.map(numericalize_example, fn_kwargs=fn_kwargs)\n",
    "test_data = test_data.map(numericalize_example, fn_kwargs=fn_kwargs)"
   ]
  },
  {
   "cell_type": "code",
   "execution_count": 22,
   "id": "843f3fa7-3d71-4534-acc9-d321caaeda82",
   "metadata": {},
   "outputs": [
    {
     "data": {
      "text/plain": [
       "{'en': 'Two young, White males are outside near many bushes.',\n",
       " 'de': 'Zwei junge weiße Männer sind im Freien in der Nähe vieler Büsche.',\n",
       " 'en_tokens': ['<sos>',\n",
       "  'two',\n",
       "  'young',\n",
       "  ',',\n",
       "  'white',\n",
       "  'males',\n",
       "  'are',\n",
       "  'outside',\n",
       "  'near',\n",
       "  'many',\n",
       "  'bushes',\n",
       "  '.',\n",
       "  '<eos>'],\n",
       " 'de_tokens': ['<sos>',\n",
       "  'zwei',\n",
       "  'junge',\n",
       "  'weiße',\n",
       "  'männer',\n",
       "  'sind',\n",
       "  'im',\n",
       "  'freien',\n",
       "  'in',\n",
       "  'der',\n",
       "  'nähe',\n",
       "  'vieler',\n",
       "  'büsche',\n",
       "  '.',\n",
       "  '<eos>'],\n",
       " 'en_ids': [2, 16, 24, 15, 25, 778, 17, 57, 80, 202, 1312, 5, 3],\n",
       " 'de_ids': [2, 18, 26, 253, 30, 84, 20, 88, 7, 15, 110, 7647, 3171, 4, 3]}"
      ]
     },
     "execution_count": 22,
     "metadata": {},
     "output_type": "execute_result"
    }
   ],
   "source": [
    "\n",
    "train_data[0]"
   ]
  },
  {
   "cell_type": "code",
   "execution_count": 23,
   "id": "9e8a448c-1fef-43ca-b178-7767733fe7d7",
   "metadata": {},
   "outputs": [],
   "source": [
    "data_type = \"torch\"\n",
    "format_columns = [\"en_ids\", \"de_ids\"]\n",
    "\n",
    "train_data = train_data.with_format(\n",
    "    type=data_type, columns=format_columns, output_all_columns=True\n",
    ")\n",
    "\n",
    "valid_data = valid_data.with_format(\n",
    "    type=data_type,\n",
    "    columns=format_columns,\n",
    "    output_all_columns=True,\n",
    ")\n",
    "\n",
    "test_data = test_data.with_format(\n",
    "    type=data_type,\n",
    "    columns=format_columns,\n",
    "    output_all_columns=True,\n",
    ")"
   ]
  },
  {
   "cell_type": "code",
   "execution_count": 24,
   "id": "9e9b35d4-55c3-4d45-b86c-e3cf56849c5e",
   "metadata": {},
   "outputs": [
    {
     "data": {
      "text/plain": [
       "{'en_ids': tensor([   2,   16,   24,   15,   25,  778,   17,   57,   80,  202, 1312,    5,\n",
       "            3]),\n",
       " 'de_ids': tensor([   2,   18,   26,  253,   30,   84,   20,   88,    7,   15,  110, 7647,\n",
       "         3171,    4,    3]),\n",
       " 'en': 'Two young, White males are outside near many bushes.',\n",
       " 'de': 'Zwei junge weiße Männer sind im Freien in der Nähe vieler Büsche.',\n",
       " 'en_tokens': ['<sos>',\n",
       "  'two',\n",
       "  'young',\n",
       "  ',',\n",
       "  'white',\n",
       "  'males',\n",
       "  'are',\n",
       "  'outside',\n",
       "  'near',\n",
       "  'many',\n",
       "  'bushes',\n",
       "  '.',\n",
       "  '<eos>'],\n",
       " 'de_tokens': ['<sos>',\n",
       "  'zwei',\n",
       "  'junge',\n",
       "  'weiße',\n",
       "  'männer',\n",
       "  'sind',\n",
       "  'im',\n",
       "  'freien',\n",
       "  'in',\n",
       "  'der',\n",
       "  'nähe',\n",
       "  'vieler',\n",
       "  'büsche',\n",
       "  '.',\n",
       "  '<eos>']}"
      ]
     },
     "execution_count": 24,
     "metadata": {},
     "output_type": "execute_result"
    }
   ],
   "source": [
    "\n",
    "train_data[0]"
   ]
  },
  {
   "cell_type": "markdown",
   "id": "0f16d734-95ec-42b7-a5aa-4aee3d41a7c8",
   "metadata": {},
   "source": [
    "### `get_collate_fn` 和 `get_data_loader` 函数的作用\n",
    "\n",
    "#### 1. `get_collate_fn(pad_index)` 函数\n",
    "- **功能**：创建一个自定义的批处理函数（collate_fn），用于处理变长序列数据（如句子）。\n",
    "- **输入参数**：\n",
    "  - `pad_index`：填充符（padding token）的索引值（如 `<pad>` 的 ID）。\n",
    "- **处理流程**：\n",
    "  1. 接收一个批次的数据（batch），提取每个样本的英语和德语序列（`en_ids` 和 `de_ids`）。\n",
    "  2. 使用 `nn.utils.rnn.pad_sequence` 对序列进行填充，使同一批次内的序列长度一致。\n",
    "  3. 返回填充后的批次数据（包含 `en_ids` 和 `de_ids` 的张量）。\n",
    "- **作用**：\n",
    "  - 解决变长序列无法直接批量输入神经网络的问题。\n",
    "  - 确保同一批次内的序列具有相同的长度（通过填充实现）。\n",
    "\n",
    "#### 2. `get_data_loader(dataset, batch_size, pad_index, shuffle=False)` 函数\n",
    "- **功能**：创建一个 PyTorch 的 `DataLoader`，用于分批次加载数据并应用自定义的批处理函数。\n",
    "- **输入参数**：\n",
    "  - `dataset`：已预处理的数据集（如 `train_data`）。\n",
    "  - `batch_size`：每个批次的样本数量。\n",
    "  - `pad_index`：填充符的索引值（传递给 `get_collate_fn`）。\n",
    "  - `shuffle`：是否在每个 epoch 开始时打乱数据顺序（默认为 `False`）。\n",
    "- **处理流程**：\n",
    "  1. 调用 `get_collate_fn(pad_index)` 获取自定义的批处理函数。\n",
    "  2. 创建 `DataLoader`，指定数据集、批次大小、批处理函数和是否打乱数据。\n",
    "- **作用**：\n",
    "  - 高效加载数据，支持多线程并行处理。\n",
    "  - 自动将数据分批次，并通过 `collate_fn` 处理变长序列。\n",
    "\n",
    "#### 关键点\n",
    "- **填充（Padding）**：确保同一批次内的序列长度一致，是 NLP 中处理变长序列的常见方法。\n",
    "- **DataLoader**：PyTorch 中用于高效加载数据的工具，支持多线程和自动批处理。\n",
    "- **适用场景**：适用于序列到序列（Seq2Seq）任务，如机器翻译、文本生成等。"
   ]
  },
  {
   "cell_type": "code",
   "execution_count": 25,
   "id": "9f00ebf9-0f21-4975-a1c4-4f520018072c",
   "metadata": {},
   "outputs": [],
   "source": [
    "def get_collate_fn(pad_index):\n",
    "    def collate_fn(batch):\n",
    "        batch_en_ids = [example[\"en_ids\"] for example in batch]\n",
    "        batch_de_ids = [example[\"de_ids\"] for example in batch]\n",
    "        batch_en_ids = nn.utils.rnn.pad_sequence(batch_en_ids, padding_value=pad_index)\n",
    "        batch_de_ids = nn.utils.rnn.pad_sequence(batch_de_ids, padding_value=pad_index)\n",
    "        batch = {\n",
    "            \"en_ids\": batch_en_ids,\n",
    "            \"de_ids\": batch_de_ids,\n",
    "        }\n",
    "        return batch\n",
    "\n",
    "    return collate_fn"
   ]
  },
  {
   "cell_type": "code",
   "execution_count": 26,
   "id": "08f24c82-7053-4d30-bf3e-3bac80cc9ddf",
   "metadata": {},
   "outputs": [
    {
     "data": {
      "text/plain": [
       "<function __main__.get_collate_fn.<locals>.collate_fn(batch)>"
      ]
     },
     "execution_count": 26,
     "metadata": {},
     "output_type": "execute_result"
    }
   ],
   "source": [
    "def get_data_loader(dataset, batch_size, pad_index, shuffle=False):\n",
    "    collate_fn = get_collate_fn(pad_index)\n",
    "    data_loader = torch.utils.data.DataLoader(\n",
    "        dataset=dataset,\n",
    "        batch_size=batch_size,\n",
    "        collate_fn=collate_fn,\n",
    "        shuffle=shuffle,\n",
    "    )\n",
    "    return data_loader\n",
    "get_collate_fn(pad_index)"
   ]
  },
  {
   "cell_type": "code",
   "execution_count": 27,
   "id": "65c18f7d-7614-42ec-b06e-a320a099ab7d",
   "metadata": {},
   "outputs": [],
   "source": [
    "\n",
    "batch_size = 128\n",
    "\n",
    "train_data_loader = get_data_loader(train_data, batch_size, pad_index, shuffle=True)\n",
    "valid_data_loader = get_data_loader(valid_data, batch_size, pad_index)\n",
    "test_data_loader = get_data_loader(test_data, batch_size, pad_index)\n"
   ]
  },
  {
   "cell_type": "markdown",
   "id": "74c7ac58-2ad9-4d9a-aff8-3aad9e747ef1",
   "metadata": {},
   "source": [
    "### `Encoder` 类的作用与实现解析\n",
    "\n",
    "#### 1. 输入参数\n",
    "- `input_dim`：输入词汇表的大小（即有多少个不同的词）。\n",
    "- `embedding_dim`：词嵌入向量的维度（即每个词被表示为多少维的向量）。\n",
    "- `hidden_dim`：LSTM 隐藏层的维度（即隐藏状态向量的大小）。\n",
    "- `n_layers`：LSTM 的层数（堆叠多少层 LSTM）。\n",
    "- `dropout`：Dropout 概率，用于防止过拟合。\n",
    "\n",
    "#### 2. 核心组件\n",
    "- **词嵌入层 (`self.embedding`)**：\n",
    "  - 将输入的整数序列（词索引）转换为密集向量表示（词嵌入）。\n",
    "  - 输入形状：`[src length, batch size]`（句子长度 × 批次大小）。\n",
    "  - 输出形状：`[src length, batch size, embedding_dim]`。\n",
    "\n",
    "- **LSTM 层 (`self.rnn`)**：\n",
    "  - 处理词嵌入序列，生成隐藏状态和细胞状态。\n",
    "  - 参数：\n",
    "    - `embedding_dim`：输入维度（词嵌入的维度）。\n",
    "    - `hidden_dim`：隐藏层维度。\n",
    "    - `n_layers`：LSTM 的层数。\n",
    "    - `dropout`：Dropout 概率（仅用于非输入层之间的连接）。\n",
    "  - 输出：\n",
    "    - `outputs`：所有时间步的隐藏状态（通常只用最后一个时间步的隐藏状态）。\n",
    "    - `hidden` 和 `cell`：最终的隐藏状态和细胞状态（用于传递给 Decoder）。\n",
    "\n",
    "- **Dropout 层 (`self.dropout`)**：\n",
    "  - 在词嵌入后应用 Dropout，随机丢弃部分神经元以防止过拟合。\n",
    "\n",
    "#### 3. `forward` 函数的处理流程\n",
    "1. **输入处理**：\n",
    "   - 输入 `src` 的形状为 `[src length, batch size]`（句子长度 × 批次大小）。\n",
    "   - 例如：`src = [[1, 2, 3], [4, 5, 0]]`（两个句子，第一个句子长度为 3，第二个句子长度为 2，`0` 是填充符）。\n",
    "\n",
    "2. **词嵌入**：\n",
    "   - 通过 `self.embedding(src)` 将词索引转换为词嵌入向量。\n",
    "   - 输出形状：`[src length, batch size, embedding_dim]`。\n",
    "\n",
    "3. **Dropout**：\n",
    "   - 对词嵌入结果应用 Dropout，随机丢弃部分神经元。\n",
    "\n",
    "4. **LSTM 处理**：\n",
    "   - 将 dropout 后的词嵌入输入到 LSTM 中。\n",
    "   - LSTM 返回：\n",
    "     - `outputs`：所有时间步的隐藏状态（通常不需要，除非需要所有时间步的输出）。\n",
    "     - `hidden` 和 `cell`：最终的隐藏状态和细胞状态（用于传递给 Decoder）。\n",
    "\n",
    "5. **输出**：\n",
    "   - 返回 `hidden` 和 `cell`，形状分别为：\n",
    "     - `hidden`：`[n layers * n directions, batch size, hidden dim]`。\n",
    "     - `cell`：`[n layers * n directions, batch size, hidden dim]`。\n",
    "   - 在单层、单向 LSTM 中，`n layers=1`，`n directions=1`，因此形状为 `[1, batch size, hidden dim]`。\n",
    "\n",
    "#### 4. 输出说明\n",
    "- **`hidden`**：\n",
    "  - 最终的隐藏状态，包含整个输入序列的上下文信息。\n",
    "  - 形状：`[n layers * n directions, batch size, hidden dim]`。\n",
    "  - 在单层、单向 LSTM 中，`hidden` 的第一个维度是 `1`（因为只有一层），可以简化为 `[batch size, hidden dim]`（如果只需要最后一层的状态）。\n",
    "\n",
    "- **`cell`**：\n",
    "  - 最终的细胞状态，与 `hidden` 类似，但用于 LSTM 的内部计算。\n",
    "  - 形状与 `hidden` 相同。\n",
    "\n",
    "#### 5. 典型用途\n",
    "- 在 Seq2Seq 模型中，`Encoder` 的 `hidden` 和 `cell` 状态会被传递给 `Decoder`，作为解码的初始状态。\n",
    "- 由于 `Encoder` 是双向 LSTM（如果 `n_directions=2`），则 `hidden` 和 `cell` 会拼接来自前向和后向的隐藏状态，以捕获完整的上下文信息。\n",
    "\n",
    "#### 6. 注意事项\n",
    "- 如果 `n_layers > 1` 或 `n_directions > 1`，`hidden` 和 `cell` 的第一个维度会相应增加（`n layers * n directions`）。\n",
    "- 在实际应用中，可能需要调整 `hidden` 和 `cell` 的形状以适应 Decoder 的输入要求（例如，提取最后一层的状态）。"
   ]
  },
  {
   "cell_type": "code",
   "execution_count": 28,
   "id": "519707be-70a5-4060-af37-8a8767cbd15e",
   "metadata": {},
   "outputs": [],
   "source": [
    "class Encoder(nn.Module):\n",
    "    def __init__(self, input_dim, embedding_dim, hidden_dim, n_layers, dropout):\n",
    "        super().__init__()\n",
    "        self.hidden_dim = hidden_dim\n",
    "        self.n_layers = n_layers\n",
    "        self.embedding = nn.Embedding(input_dim, embedding_dim)\n",
    "        self.rnn = nn.LSTM(embedding_dim, hidden_dim, n_layers, dropout=dropout)\n",
    "        self.dropout = nn.Dropout(dropout)\n",
    "\n",
    "    def forward(self, src):\n",
    "        # src = [src length, batch size]\n",
    "        embedded = self.dropout(self.embedding(src))\n",
    "        # embedded = [src length, batch size, embedding dim]\n",
    "        outputs, (hidden, cell) = self.rnn(embedded)\n",
    "        # outputs = [src length, batch size, hidden dim * n directions]\n",
    "        # hidden = [n layers * n directions, batch size, hidden dim]\n",
    "        # cell = [n layers * n directions, batch size, hidden dim]\n",
    "        # outputs are always from the top hidden layer\n",
    "        return hidden, cell"
   ]
  },
  {
   "cell_type": "markdown",
   "id": "2f0214ff-b99d-4760-ba3b-a99c0b0cc68a",
   "metadata": {},
   "source": [
    "### Decoder 类的工作流程\n",
    "\n",
    "#### 1. 输入参数说明\n",
    "- `output_dim`：输出词汇表的大小（即解码器可能生成的词的数量）\n",
    "- `embedding_dim`：词嵌入向量的维度\n",
    "- `hidden_dim`：LSTM 隐藏层的维度\n",
    "- `n_layers`：LSTM 的层数\n",
    "- `dropout`：Dropout 概率\n",
    "\n",
    "#### 2. 核心组件解析\n",
    "- **词嵌入层 (`self.embedding`)**：\n",
    "  - 将输入的整数（词索引）转换为密集向量表示\n",
    "  - 输入形状：[batch size]\n",
    "  - 输出形状：[1, batch size, embedding_dim]（经过 unsqueeze 处理）\n",
    "\n",
    "- **LSTM 层 (`self.rnn`)**：\n",
    "  - 处理嵌入后的词向量序列\n",
    "  - 接收 Encoder 传递的 hidden 和 cell 状态作为初始状态\n",
    "  - 输出新的 hidden 和 cell 状态\n",
    "\n",
    "- **全连接层 (`self.fc_out`)**：\n",
    "  - 将 LSTM 的输出映射到输出词汇表大小的向量空间\n",
    "  - 用于预测下一个词的概率分布\n",
    "\n",
    "- **Dropout 层 (`self.dropout`)**：\n",
    "  - 在词嵌入后应用 Dropout 防止过拟合\n",
    "\n",
    "#### 3. 前向传播流程\n",
    "1. **输入处理**：\n",
    "   - 输入 `input` 的形状为 [batch size]（单个词索引）\n",
    "   - 通过 unsqueeze(0) 增加时间步维度，变为 [1, batch size]\n",
    "\n",
    "2. **词嵌入**：\n",
    "   - 将输入词索引转换为词嵌入向量\n",
    "   - 应用 Dropout 后形状为 [1, batch size, embedding_dim]\n",
    "\n",
    "3. **LSTM 处理**：\n",
    "   - 接收词嵌入向量和 Encoder 的 hidden/cell 状态\n",
    "   - 输出新的 hidden 和 cell 状态\n",
    "   - 在单层单向 LSTM 中，hidden/cell 形状为 [n layers, batch size, hidden_dim]\n",
    "\n",
    "4. **预测输出**：\n",
    "   - 将 LSTM 输出通过全连接层映射到输出词汇表空间\n",
    "   - 去除时间步维度后形状为 [batch size, output_dim]\n",
    "   - 表示每个词的概率分布\n",
    "\n",
    "#### 4. 关键点说明\n",
    "- **输入与输出**：\n",
    "  - 输入：当前时间步的词索引 + Encoder 的上下文状态\n",
    "  - 输出：下一个词的概率分布 + 更新后的 hidden/cell 状态\n",
    "\n",
    "- **状态传递**：\n",
    "  - Decoder 维护自己的隐藏状态和细胞状态\n",
    "  - 每个时间步都会更新这些状态并传递给下一个时间步\n",
    "\n",
    "- **与 Encoder 的交互**：\n",
    "  - 在第一个时间步，Decoder 使用 Encoder 的 final hidden/cell 状态\n",
    "  - 后续时间步使用前一个时间步的 hidden/cell 状态\n",
    "\n",
    "- **应用场景**：\n",
    "  - 在 Seq2Seq 模型中用于生成目标序列\n",
    "  - 每个时间步生成一个词，直到遇到结束标记或达到最大长度\n",
    "\n",
    "#### 5. 注意事项\n",
    "- 该实现假设是单层单向 LSTM（n_layers=1, n_directions=1）\n",
    "- 如果需要处理多方向 LSTM，需要调整 hidden/cell 的维度处理\n",
    "- 在训练时通常使用 teacher forcing 技术提高稳定性v"
   ]
  },
  {
   "cell_type": "code",
   "execution_count": 29,
   "id": "967d5340-b9b4-401a-ba92-dae55d4ed43d",
   "metadata": {},
   "outputs": [],
   "source": [
    "class Decoder(nn.Module):\n",
    "    def __init__(self, output_dim, embedding_dim, hidden_dim, n_layers, dropout):\n",
    "        super().__init__()\n",
    "        self.output_dim = output_dim\n",
    "        self.hidden_dim = hidden_dim\n",
    "        self.n_layers = n_layers\n",
    "        self.embedding = nn.Embedding(output_dim, embedding_dim)\n",
    "        self.rnn = nn.LSTM(embedding_dim, hidden_dim, n_layers, dropout=dropout)\n",
    "        self.fc_out = nn.Linear(hidden_dim, output_dim)\n",
    "        self.dropout = nn.Dropout(dropout)\n",
    "\n",
    "    def forward(self, input, hidden, cell):\n",
    "        # input = [batch size]\n",
    "        # hidden = [n layers * n directions, batch size, hidden dim]\n",
    "        # cell = [n layers * n directions, batch size, hidden dim]\n",
    "        # n directions in the decoder will both always be 1, therefore:\n",
    "        # hidden = [n layers, batch size, hidden dim]\n",
    "        # context = [n layers, batch size, hidden dim]\n",
    "        input = input.unsqueeze(0)\n",
    "        # input = [1, batch size]\n",
    "        embedded = self.dropout(self.embedding(input))\n",
    "        # embedded = [1, batch size, embedding dim]\n",
    "        output, (hidden, cell) = self.rnn(embedded, (hidden, cell))\n",
    "        # output = [seq length, batch size, hidden dim * n directions]\n",
    "        # hidden = [n layers * n directions, batch size, hidden dim]\n",
    "        # cell = [n layers * n directions, batch size, hidden dim]\n",
    "        # seq length and n directions will always be 1 in this decoder, therefore:\n",
    "        # output = [1, batch size, hidden dim]\n",
    "        # hidden = [n layers, batch size, hidden dim]\n",
    "        # cell = [n layers, batch size, hidden dim]\n",
    "        prediction = self.fc_out(output.squeeze(0))\n",
    "        # prediction = [batch size, output dim]\n",
    "        return prediction, hidden, cell"
   ]
  },
  {
   "cell_type": "markdown",
   "id": "92fe2238-69a8-4ebf-b56f-2819d740a3bd",
   "metadata": {},
   "source": [
    "### Seq2Seq 类的工作原理与 Teacher Forcing 机制\n",
    "\n",
    "#### 1. 类结构概述\n",
    "- **核心组件**：\n",
    "  - `encoder`：编码器模块，负责将源语言序列编码为上下文表示\n",
    "  - `decoder`：解码器模块，基于编码器输出和目标序列生成预测\n",
    "  - `device`：设备配置（CPU/GPU）\n",
    "\n",
    "- **关键约束**：\n",
    "  - 编码器和解码器的隐藏层维度必须相同 \n",
    "  - 编码器和解码器的层数必须相同\n",
    "\n",
    "#### 2. forward 函数流程解析\n",
    "1. **输入参数**：\n",
    "   - `src`：源语言序列 [src length, batch size]\n",
    "   - `trg`：目标语言序列 [trg length, batch size]\n",
    "   - `teacher_forcing_ratio`：使用真实标签作为输入的概率（0-1）\n",
    "\n",
    "2. **初始化阶段**：\n",
    "   - 获取批次大小和目标序列长度\n",
    "   - 创建输出张量 `outputs` 用于存储所有时间步的预测结果\n",
    "   - 通过编码器处理源序列，获取初始隐藏状态和细胞状态\n",
    "\n",
    "3. **解码循环**：\n",
    "   - 从 `<sos>` 标记开始解码\n",
    "   - 对每个时间步 t：\n",
    "     a. 将当前输入、隐藏状态和细胞状态传入解码器\n",
    "     b. 获取预测结果和更新后的隐藏状态/细胞状态\n",
    "     c. 将预测结果存入 `outputs` 张量\n",
    "     d. 根据 teacher forcing 决定下一步输入：\n",
    "        - 以 `teacher_forcing_ratio` 概率使用真实标签 `trg[t]`\n",
    "        - 否则使用模型预测的最高概率词 `top1`\n",
    "\n",
    "4. **输出结果**：\n",
    "   - 返回形状为 [trg length, batch size, output dim] 的张量\n",
    "   - 包含目标序列每个时间步的预测分布\n",
    "\n",
    "#### 3. Teacher Forcing 机制详解\n",
    "- **定义**：\n",
    "  - 在训练阶段，解码器在生成第 t 个词时，有概率使用真实的目标词（而非模型预测的词）作为输入\n",
    "  - 概率由 `teacher_forcing_ratio` 控制\n",
    "\n",
    "- **工作流程**：\n",
    "  ```python\n",
    "  teacher_force = random.random() < teacher_forcing_ratio\n",
    "  input = trg[t] if teacher_force else top1"
   ]
  },
  {
   "cell_type": "code",
   "execution_count": 30,
   "id": "4736301d-0c39-4d7d-902d-6ba31271b32c",
   "metadata": {},
   "outputs": [],
   "source": [
    "class Seq2Seq(nn.Module):\n",
    "    def __init__(self, encoder, decoder, device):\n",
    "        super().__init__()\n",
    "        self.encoder = encoder\n",
    "        self.decoder = decoder\n",
    "        self.device = device\n",
    "        assert (\n",
    "            encoder.hidden_dim == decoder.hidden_dim\n",
    "        ), \"Hidden dimensions of encoder and decoder must be equal!\"\n",
    "        assert (\n",
    "            encoder.n_layers == decoder.n_layers\n",
    "        ), \"Encoder and decoder must have equal number of layers!\"\n",
    "\n",
    "    def forward(self, src, trg, teacher_forcing_ratio):\n",
    "        # src = [src length, batch size]\n",
    "        # trg = [trg length, batch size]\n",
    "        # teacher_forcing_ratio is probability to use teacher forcing\n",
    "        # e.g. if teacher_forcing_ratio is 0.75 we use ground-truth inputs 75% of the time\n",
    "        batch_size = trg.shape[1]\n",
    "        trg_length = trg.shape[0]\n",
    "        trg_vocab_size = self.decoder.output_dim\n",
    "        # tensor to store decoder outputs\n",
    "        outputs = torch.zeros(trg_length, batch_size, trg_vocab_size).to(self.device)\n",
    "        # last hidden state of the encoder is used as the initial hidden state of the decoder\n",
    "        hidden, cell = self.encoder(src)\n",
    "        # hidden = [n layers * n directions, batch size, hidden dim]\n",
    "        # cell = [n layers * n directions, batch size, hidden dim]\n",
    "        # first input to the decoder is the <sos> tokens\n",
    "        input = trg[0, :]\n",
    "        # input = [batch size]\n",
    "        for t in range(1, trg_length):\n",
    "            # insert input token embedding, previous hidden and previous cell states\n",
    "            # receive output tensor (predictions) and new hidden and cell states\n",
    "            output, hidden, cell = self.decoder(input, hidden, cell)\n",
    "            # output = [batch size, output dim]\n",
    "            # hidden = [n layers, batch size, hidden dim]\n",
    "            # cell = [n layers, batch size, hidden dim]\n",
    "            # place predictions in a tensor holding predictions for each token\n",
    "            outputs[t] = output\n",
    "            # decide if we are going to use teacher forcing or not\n",
    "            teacher_force = random.random() < teacher_forcing_ratio\n",
    "            # get the highest predicted token from our predictions\n",
    "            top1 = output.argmax(1)\n",
    "            # if teacher forcing, use actual next token as next input\n",
    "            # if not, use predicted token\n",
    "            input = trg[t] if teacher_force else top1\n",
    "            # input = [batch size]\n",
    "        return outputs"
   ]
  },
  {
   "cell_type": "code",
   "execution_count": 31,
   "id": "832d8ca7-bb86-4b37-a522-280331d3c958",
   "metadata": {},
   "outputs": [],
   "source": [
    "input_dim = len(de_vocab)\n",
    "output_dim = len(en_vocab)\n",
    "encoder_embedding_dim = 256\n",
    "decoder_embedding_dim = 256\n",
    "hidden_dim = 512\n",
    "n_layers = 2\n",
    "encoder_dropout = 0.5\n",
    "decoder_dropout = 0.5\n",
    "device = torch.device(\"cuda\" if torch.cuda.is_available() else \"cpu\")\n",
    "# 编码器初始化\n",
    "encoder = Encoder(\n",
    "    input_dim,\n",
    "    encoder_embedding_dim,\n",
    "    hidden_dim,\n",
    "    n_layers,\n",
    "    encoder_dropout,\n",
    ")\n",
    "# 解码器初始化\n",
    "decoder = Decoder(\n",
    "    output_dim,\n",
    "    decoder_embedding_dim,\n",
    "    hidden_dim,\n",
    "    n_layers,\n",
    "    decoder_dropout,\n",
    ")\n",
    "# Seq2Seq模型整合\n",
    "model = Seq2Seq(encoder, decoder, device).to(device)"
   ]
  },
  {
   "cell_type": "code",
   "execution_count": 32,
   "id": "6ef193e6-4ceb-460f-91b4-77f8c52e2542",
   "metadata": {},
   "outputs": [
    {
     "data": {
      "text/plain": [
       "Seq2Seq(\n",
       "  (encoder): Encoder(\n",
       "    (embedding): Embedding(7853, 256)\n",
       "    (rnn): LSTM(256, 512, num_layers=2, dropout=0.5)\n",
       "    (dropout): Dropout(p=0.5, inplace=False)\n",
       "  )\n",
       "  (decoder): Decoder(\n",
       "    (embedding): Embedding(5893, 256)\n",
       "    (rnn): LSTM(256, 512, num_layers=2, dropout=0.5)\n",
       "    (fc_out): Linear(in_features=512, out_features=5893, bias=True)\n",
       "    (dropout): Dropout(p=0.5, inplace=False)\n",
       "  )\n",
       ")"
      ]
     },
     "execution_count": 32,
     "metadata": {},
     "output_type": "execute_result"
    }
   ],
   "source": [
    "def init_weights(m):\n",
    "    for name, param in m.named_parameters():\n",
    "        nn.init.uniform_(param.data, -0.08, 0.08)\n",
    "\n",
    "\n",
    "model.apply(init_weights)"
   ]
  },
  {
   "cell_type": "code",
   "execution_count": 33,
   "id": "cf0025c5-f117-450c-81da-c4d986d75ab4",
   "metadata": {},
   "outputs": [
    {
     "name": "stdout",
     "output_type": "stream",
     "text": [
      "The model has 13,898,501 trainable parameters\n"
     ]
    }
   ],
   "source": [
    "def count_parameters(model):\n",
    "    return sum(p.numel() for p in model.parameters() if p.requires_grad)\n",
    "\n",
    "\n",
    "print(f\"The model has {count_parameters(model):,} trainable parameters\")"
   ]
  },
  {
   "cell_type": "code",
   "execution_count": 34,
   "id": "fdad372c-f2ab-4eae-8482-4d6393ab79a3",
   "metadata": {},
   "outputs": [],
   "source": [
    "optimizer = optim.Adam(model.parameters())"
   ]
  },
  {
   "cell_type": "code",
   "execution_count": 35,
   "id": "573ead36-c266-4269-8699-6b3f14aa5d13",
   "metadata": {},
   "outputs": [],
   "source": [
    "criterion = nn.CrossEntropyLoss(ignore_index=pad_index)"
   ]
  },
  {
   "cell_type": "code",
   "execution_count": 36,
   "id": "527b98e2-f2cc-47b7-aa8b-afcc88e698a1",
   "metadata": {},
   "outputs": [],
   "source": [
    "def train_fn(\n",
    "    model, data_loader, optimizer, criterion, clip, teacher_forcing_ratio, device\n",
    "):\n",
    "    # 设置模型为训练模式\n",
    "    model.train()\n",
    "    # 初始化当前epoch的总损失\n",
    "    epoch_loss = 0\n",
    "    # 遍历数据加载器中的每个批次\n",
    "    for i, batch in enumerate(data_loader):\n",
    "        # 获取源语言序列并移动到指定设备\n",
    "        src = batch[\"de_ids\"].to(device)\n",
    "        # 获取目标语言序列并移动到指定设备\n",
    "        trg = batch[\"en_ids\"].to(device)\n",
    "        # src的形状为 [src length, batch size]\n",
    "        # trg的形状为 [trg length, batch size]\n",
    "        \n",
    "        # 清空优化器的梯度\n",
    "        optimizer.zero_grad()\n",
    "        # 将源序列和目标序列输入模型，获取输出\n",
    "        output = model(src, trg, teacher_forcing_ratio)\n",
    "        # output的形状为 [trg length, batch size, trg vocab size]\n",
    "        \n",
    "        # 获取目标词汇表的大小\n",
    "        output_dim = output.shape[-1]\n",
    "        # 去掉输出的第一个时间步（<sos>），并调整形状以适配损失函数\n",
    "        output = output[1:].view(-1, output_dim)\n",
    "        # output的形状为 [(trg length - 1) * batch size, trg vocab size]\n",
    "        \n",
    "        # 去掉目标序列的第一个时间步（<sos>），并调整形状以适配损失函数\n",
    "        trg = trg[1:].view(-1)\n",
    "        # trg的形状为 [(trg length - 1) * batch size]\n",
    "        \n",
    "        # 计算当前批次的损失\n",
    "        loss = criterion(output, trg)\n",
    "        # 反向传播计算梯度\n",
    "        loss.backward()\n",
    "        # 对梯度进行裁剪，防止梯度爆炸\n",
    "        torch.nn.utils.clip_grad_norm_(model.parameters(), clip)\n",
    "        # 更新模型参数\n",
    "        optimizer.step()\n",
    "        # 累加当前批次的损失\n",
    "        epoch_loss += loss.item()\n",
    "    \n",
    "    # 返回当前epoch的平均损失\n",
    "    return epoch_loss / len(data_loader)\n",
    "\n"
   ]
  },
  {
   "cell_type": "code",
   "execution_count": 37,
   "id": "6640f38c-f962-4b3d-8e1c-7a5d246d9318",
   "metadata": {},
   "outputs": [],
   "source": [
    "def evaluate_fn(model, data_loader, criterion, device):\n",
    "    model.eval()\n",
    "    epoch_loss = 0\n",
    "    with torch.no_grad():\n",
    "        for i, batch in enumerate(data_loader):\n",
    "            src = batch[\"de_ids\"].to(device)\n",
    "            trg = batch[\"en_ids\"].to(device)\n",
    "            # src = [src length, batch size]\n",
    "            # trg = [trg length, batch size]\n",
    "            output = model(src, trg, 0)  # turn off teacher forcing\n",
    "            # output = [trg length, batch size, trg vocab size]\n",
    "            output_dim = output.shape[-1]\n",
    "            output = output[1:].view(-1, output_dim)\n",
    "            # output = [(trg length - 1) * batch size, trg vocab size]\n",
    "            trg = trg[1:].view(-1)\n",
    "            # trg = [(trg length - 1) * batch size]\n",
    "            loss = criterion(output, trg)\n",
    "            epoch_loss += loss.item()\n",
    "    return epoch_loss / len(data_loader)"
   ]
  },
  {
   "cell_type": "code",
   "execution_count": 38,
   "id": "4f0a0ab4-1b88-4958-ae59-ed440fd9a8b0",
   "metadata": {},
   "outputs": [
    {
     "name": "stderr",
     "output_type": "stream",
     "text": [
      "100%|███████████████████████████████████████████████████████████████████████████████████| 1/1 [04:59<00:00, 299.49s/it]"
     ]
    },
    {
     "name": "stdout",
     "output_type": "stream",
     "text": [
      "\tTrain Loss:   5.026 | Train PPL: 152.277\n",
      "\tValid Loss:   4.861 | Valid PPL: 129.150\n"
     ]
    },
    {
     "name": "stderr",
     "output_type": "stream",
     "text": [
      "\n"
     ]
    }
   ],
   "source": [
    "n_epochs = 1 # 因模型训练对计算资源要求较高，此处只设立了一轮训练。\n",
    "clip = 1.0\n",
    "teacher_forcing_ratio = 0.5\n",
    "\n",
    "best_valid_loss = float(\"inf\")\n",
    "\n",
    "for epoch in tqdm.tqdm(range(n_epochs)):\n",
    "    train_loss = train_fn(\n",
    "        model,\n",
    "        train_data_loader,\n",
    "        optimizer,\n",
    "        criterion,\n",
    "        clip,\n",
    "        teacher_forcing_ratio,\n",
    "        device,\n",
    "    )\n",
    "    valid_loss = evaluate_fn(\n",
    "        model,\n",
    "        valid_data_loader,\n",
    "        criterion,\n",
    "        device,\n",
    "    )\n",
    "    if valid_loss < best_valid_loss:\n",
    "        best_valid_loss = valid_loss\n",
    "        torch.save(model.state_dict(), \"tut1-model.pt\")\n",
    "    print(f\"\\tTrain Loss: {train_loss:7.3f} | Train PPL: {np.exp(train_loss):7.3f}\")\n",
    "    print(f\"\\tValid Loss: {valid_loss:7.3f} | Valid PPL: {np.exp(valid_loss):7.3f}\")"
   ]
  },
  {
   "cell_type": "code",
   "execution_count": 39,
   "id": "e10ababa-e800-43df-8850-b45685feccd4",
   "metadata": {},
   "outputs": [
    {
     "data": {
      "text/plain": [
       "<All keys matched successfully>"
      ]
     },
     "execution_count": 39,
     "metadata": {},
     "output_type": "execute_result"
    }
   ],
   "source": [
    "model.load_state_dict(torch.load(\"tut1-model.pt\"))"
   ]
  },
  {
   "cell_type": "code",
   "execution_count": 40,
   "id": "dad37c3b-46f7-4f8a-8b1e-cc7138e84386",
   "metadata": {},
   "outputs": [],
   "source": [
    "def translate_sentence(\n",
    "    sentence,\n",
    "    model,\n",
    "    en_nlp,\n",
    "    de_nlp,\n",
    "    en_vocab,\n",
    "    de_vocab,\n",
    "    lower,\n",
    "    sos_token,\n",
    "    eos_token,\n",
    "    device,\n",
    "    max_output_length=25,\n",
    "):\n",
    "    model.eval()\n",
    "    with torch.no_grad():\n",
    "        if isinstance(sentence, str):\n",
    "            tokens = [token.text for token in de_nlp.tokenizer(sentence)]\n",
    "        else:\n",
    "            tokens = [token for token in sentence]\n",
    "        if lower:\n",
    "            tokens = [token.lower() for token in tokens]\n",
    "        tokens = [sos_token] + tokens + [eos_token]\n",
    "        ids = de_vocab.lookup_indices(tokens)\n",
    "        tensor = torch.LongTensor(ids).unsqueeze(-1).to(device)\n",
    "        hidden, cell = model.encoder(tensor)\n",
    "        inputs = en_vocab.lookup_indices([sos_token])\n",
    "        for _ in range(max_output_length):\n",
    "            inputs_tensor = torch.LongTensor([inputs[-1]]).to(device)\n",
    "            output, hidden, cell = model.decoder(inputs_tensor, hidden, cell)\n",
    "            predicted_token = output.argmax(-1).item()\n",
    "            inputs.append(predicted_token)\n",
    "            if predicted_token == en_vocab[eos_token]:\n",
    "                break\n",
    "        tokens = en_vocab.lookup_tokens(inputs)\n",
    "    return tokens"
   ]
  },
  {
   "cell_type": "code",
   "execution_count": 41,
   "id": "f3755d0c-11d2-48a9-bbcf-61182650a5e2",
   "metadata": {},
   "outputs": [
    {
     "data": {
      "text/plain": [
       "('Ein Mann mit einem orangefarbenen Hut, der etwas anstarrt.',\n",
       " 'A man in an orange hat starring at something.')"
      ]
     },
     "execution_count": 41,
     "metadata": {},
     "output_type": "execute_result"
    }
   ],
   "source": [
    "sentence = test_data[0][\"de\"]\n",
    "expected_translation = test_data[0][\"en\"]\n",
    "\n",
    "sentence, expected_translation"
   ]
  },
  {
   "cell_type": "code",
   "execution_count": 42,
   "id": "6ca3f535-e8a1-4a83-a531-8d818f0fe312",
   "metadata": {},
   "outputs": [],
   "source": [
    "translation = translate_sentence(\n",
    "    sentence,\n",
    "    model,\n",
    "    en_nlp,\n",
    "    de_nlp,\n",
    "    en_vocab,\n",
    "    de_vocab,\n",
    "    lower,\n",
    "    sos_token,\n",
    "    eos_token,\n",
    "    device,\n",
    ")"
   ]
  },
  {
   "cell_type": "code",
   "execution_count": 43,
   "id": "49fd16c0-f72b-40e8-ae0a-a4389abe2fe2",
   "metadata": {},
   "outputs": [
    {
     "data": {
      "text/plain": [
       "['<sos>',\n",
       " 'a',\n",
       " 'man',\n",
       " 'in',\n",
       " 'a',\n",
       " 'a',\n",
       " 'shirt',\n",
       " 'is',\n",
       " 'a',\n",
       " 'a',\n",
       " 'a',\n",
       " '.',\n",
       " '<eos>']"
      ]
     },
     "execution_count": 43,
     "metadata": {},
     "output_type": "execute_result"
    }
   ],
   "source": [
    "translation"
   ]
  },
  {
   "cell_type": "code",
   "execution_count": null,
   "id": "4c13bb2c-1f53-4de6-a2ec-573ffa169a35",
   "metadata": {},
   "outputs": [],
   "source": []
  }
 ],
 "metadata": {
  "kernelspec": {
   "display_name": "Python 3 (ipykernel)",
   "language": "python",
   "name": "python3"
  },
  "language_info": {
   "codemirror_mode": {
    "name": "ipython",
    "version": 3
   },
   "file_extension": ".py",
   "mimetype": "text/x-python",
   "name": "python",
   "nbconvert_exporter": "python",
   "pygments_lexer": "ipython3",
   "version": "3.9.21"
  }
 },
 "nbformat": 4,
 "nbformat_minor": 5
}
